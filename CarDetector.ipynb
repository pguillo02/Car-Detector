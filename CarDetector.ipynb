{
 "cells": [
  {
   "cell_type": "code",
   "execution_count": 24,
   "id": "daeb0b56",
   "metadata": {},
   "outputs": [],
   "source": [
    "import cv2\n",
    "\n",
    "#Creamos el objetos VideoCapture \n",
    "cap=cv2.VideoCapture(\"Tráfico01.mp4\")\n",
    "\n",
    "#Substraemos el fondo para dejar sólo los coches\n",
    "fondo=cv2.createBackgroundSubtractorMOG2()\n",
    "\n",
    "#Creamos un bucle para tratar cada frame individualmente\n",
    "while True:\n",
    "    ret, frame=cap.read()\n",
    "    if not ret:\n",
    "        break\n",
    "    \n",
    "    #Convertimos el frame al espacio de color gris\n",
    "    gray_frame=cv2.cvtColor(frame, cv2.COLOR_BGR2GRAY)\n",
    "    \n",
    "    #Aplicamos el umbralizado simple con un punto comparativo muy bajo\n",
    "    ret, thresh=cv2.threshold(gray_frame, 50, 255, cv2.THRESH_BINARY_INV)\n",
    "    \n",
    "    #Creamos una mascara para separar el fondo de las zonas umbralizados\n",
    "    mascara_fondo=fondo.apply(thresh)\n",
    "    \n",
    "    # Empleamos contours para localizar los coches con un area mayor de 100\n",
    "    contornos, hierarchy=cv2.findContours(mascara_fondo, cv2.RETR_EXTERNAL, cv2.CHAIN_APPROX_SIMPLE)\n",
    "\n",
    "    #Marcamos con un rectángulo el coche\n",
    "    for contorno in contornos:\n",
    "        if cv2.contourArea(contorno)>60:\n",
    "            (x,y,w,h)=cv2.boundingRect(contorno)\n",
    "            cv2.rectangle(frame, (x,y), (x+w,y+h), (0, 45, 250), 2)\n",
    "    \n",
    "    #Mostramos el frame\n",
    "    cv2.imshow(\"Cars\", frame)\n",
    "\n",
    "    #Permitimos terminar la reproducción pulsando la tecla q\n",
    "    if cv2.waitKey(1) & 0xFF==ord('q'):\n",
    "        break\n",
    "\n",
    "#Destruimos el objeto VideoCapture y eliminamos las ventanas para no gastar memoria\n",
    "cap.release()\n",
    "cv2.destroyAllWindows()"
   ]
  }
 ],
 "metadata": {
  "kernelspec": {
   "display_name": "Python 3 (ipykernel)",
   "language": "python",
   "name": "python3"
  },
  "language_info": {
   "codemirror_mode": {
    "name": "ipython",
    "version": 3
   },
   "file_extension": ".py",
   "mimetype": "text/x-python",
   "name": "python",
   "nbconvert_exporter": "python",
   "pygments_lexer": "ipython3",
   "version": "3.9.7"
  }
 },
 "nbformat": 4,
 "nbformat_minor": 5
}
