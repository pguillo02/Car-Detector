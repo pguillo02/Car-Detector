{
 "cells": [
  {
   "cell_type": "code",
   "execution_count": 2,
   "id": "1a4cef26",
   "metadata": {},
   "outputs": [
    {
     "name": "stdout",
     "output_type": "stream",
     "text": [
      "12\n"
     ]
    }
   ],
   "source": [
    "import cv2\n",
    "import imutils\n",
    "import numpy as np\n",
    "\n",
    "cap = cv2.VideoCapture('test-video.mp4')\n",
    "fgbg = cv2.createBackgroundSubtractorMOG2()\n",
    "kernel = cv2.getStructuringElement(cv2.MORPH_ELLIPSE, (3, 3))\n",
    "car_counter = 0\n",
    "\n",
    "while True:\n",
    "    ret, frame = cap.read()\n",
    "    if ret == False:\n",
    "        break\n",
    "    frame = imutils.resize(frame, width=640)\n",
    "\n",
    "    area_pts = np.array([[60, 196], [frame.shape[1] - 145, 196], [frame.shape[1] - 60, 240], [140, 240]])\n",
    "\n",
    "    imAux = np.zeros(shape=(frame.shape[:2]), dtype=np.uint8)\n",
    "    imAux = cv2.drawContours(imAux, [area_pts], -1, (255), -1)\n",
    "    image_area = cv2.bitwise_and(frame, frame, mask=imAux)\n",
    "\n",
    "    fgmask = fgbg.apply(image_area)\n",
    "    fgmask = cv2.morphologyEx(fgmask, cv2.MORPH_OPEN, kernel)\n",
    "    fgmask = cv2.dilate(fgmask, None, iterations=5)\n",
    "\n",
    "    cnts = cv2.findContours(fgmask, cv2.RETR_TREE, cv2.CHAIN_APPROX_SIMPLE)[0]\n",
    "\n",
    "    detections = []\n",
    "\n",
    "    for cnt in cnts:\n",
    "        if cv2.contourArea(cnt) > 500:\n",
    "            x, y, w, h = cv2.boundingRect(cnt)\n",
    "            detections.append([x, y, w, h])\n",
    "            cv2.rectangle(frame, (x, y), (x + w, y + h), (0, 255, 0), 1)\n",
    "            if 216 < (y + h) < 219:\n",
    "                car_counter = car_counter + 1\n",
    "\n",
    "    cv2.rectangle(frame, (frame.shape[1] - 70, 215), (frame.shape[1] - 5, 270), (0, 255, 0), 2)\n",
    "    cv2.putText(frame, str(car_counter), (frame.shape[1] - 55, 250),\n",
    "                cv2.FONT_HERSHEY_SIMPLEX, 1.2, (0, 255, 0), 2)\n",
    "    cv2.imshow('detector', frame)\n",
    "    cv2.imshow('bn', fgmask)\n",
    "\n",
    "    k = cv2.waitKey(15) & 0xFF\n",
    "    if k == 27:\n",
    "        break\n",
    "\n",
    "cap.release()\n",
    "cv2.destroyAllWindows()\n",
    "print(car_counter)"
   ]
  }
 ],
 "metadata": {
  "kernelspec": {
   "display_name": "Python 3 (ipykernel)",
   "language": "python",
   "name": "python3"
  },
  "language_info": {
   "codemirror_mode": {
    "name": "ipython",
    "version": 3
   },
   "file_extension": ".py",
   "mimetype": "text/x-python",
   "name": "python",
   "nbconvert_exporter": "python",
   "pygments_lexer": "ipython3",
   "version": "3.9.7"
  }
 },
 "nbformat": 4,
 "nbformat_minor": 5
}
